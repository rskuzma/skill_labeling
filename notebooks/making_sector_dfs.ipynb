{
 "cells": [
  {
   "cell_type": "markdown",
   "metadata": {},
   "source": [
    "# Splitting 20k jobs into sectors\n",
    "Richard Kuzma, 25NOV2020"
   ]
  },
  {
   "cell_type": "code",
   "execution_count": 1,
   "metadata": {},
   "outputs": [],
   "source": [
    "import pickle\n",
    "import pandas\n",
    "import snorkel\n",
    "import matplotlib.pyplot as plt"
   ]
  },
  {
   "cell_type": "markdown",
   "metadata": {},
   "source": [
    "#### Load data"
   ]
  },
  {
   "cell_type": "code",
   "execution_count": 2,
   "metadata": {},
   "outputs": [],
   "source": [
    "DATA_PATH = '../data/cleaned/'\n",
    "DF_NAME = 'monster_jobs_df_small.pkl'\n",
    "with open(DATA_PATH + DF_NAME, 'rb') as f:\n",
    "    df = pickle.load(f)"
   ]
  },
  {
   "cell_type": "markdown",
   "metadata": {},
   "source": [
    "#### exploring the data"
   ]
  },
  {
   "cell_type": "code",
   "execution_count": 3,
   "metadata": {},
   "outputs": [
    {
     "name": "stdout",
     "output_type": "stream",
     "text": [
      "Index(['id', 'job_title', 'job_description', 'job_type', 'location',\n",
      "       'organization', 'sector'],\n",
      "      dtype='object')\n"
     ]
    },
    {
     "data": {
      "text/html": [
       "<div>\n",
       "<style scoped>\n",
       "    .dataframe tbody tr th:only-of-type {\n",
       "        vertical-align: middle;\n",
       "    }\n",
       "\n",
       "    .dataframe tbody tr th {\n",
       "        vertical-align: top;\n",
       "    }\n",
       "\n",
       "    .dataframe thead th {\n",
       "        text-align: right;\n",
       "    }\n",
       "</style>\n",
       "<table border=\"1\" class=\"dataframe\">\n",
       "  <thead>\n",
       "    <tr style=\"text-align: right;\">\n",
       "      <th></th>\n",
       "      <th>id</th>\n",
       "      <th>job_title</th>\n",
       "      <th>job_description</th>\n",
       "      <th>job_type</th>\n",
       "      <th>location</th>\n",
       "      <th>organization</th>\n",
       "      <th>sector</th>\n",
       "    </tr>\n",
       "  </thead>\n",
       "  <tbody>\n",
       "    <tr>\n",
       "      <th>0</th>\n",
       "      <td>0</td>\n",
       "      <td>IT Support Technician Job in Madison</td>\n",
       "      <td>TeamSoft is seeing an IT Support Specialist to...</td>\n",
       "      <td>Full Time Employee</td>\n",
       "      <td>Madison, WI 53702</td>\n",
       "      <td>None</td>\n",
       "      <td>IT/Software Development</td>\n",
       "    </tr>\n",
       "    <tr>\n",
       "      <th>1</th>\n",
       "      <td>1</td>\n",
       "      <td>Business Reporter/Editor Job in Madison</td>\n",
       "      <td>The Wisconsin State Journal is seeking a flexi...</td>\n",
       "      <td>Full Time</td>\n",
       "      <td>Madison, WI 53708</td>\n",
       "      <td>Printing and Publishing</td>\n",
       "      <td>None</td>\n",
       "    </tr>\n",
       "    <tr>\n",
       "      <th>2</th>\n",
       "      <td>2</td>\n",
       "      <td>Johnson &amp; Johnson Family of Companies Job Appl...</td>\n",
       "      <td>Report this job About the Job DePuy Synthes Co...</td>\n",
       "      <td>Full Time, Employee</td>\n",
       "      <td>DePuy Synthes Companies is a member of Johnson...</td>\n",
       "      <td>Personal and Household Services</td>\n",
       "      <td>None</td>\n",
       "    </tr>\n",
       "    <tr>\n",
       "      <th>3</th>\n",
       "      <td>3</td>\n",
       "      <td>Engineer - Quality Job in Dixon</td>\n",
       "      <td>Why Join Altec? If you’re considering a career...</td>\n",
       "      <td>Full Time</td>\n",
       "      <td>Dixon, CA</td>\n",
       "      <td>Altec Industries</td>\n",
       "      <td>Experienced (Non-Manager)</td>\n",
       "    </tr>\n",
       "    <tr>\n",
       "      <th>4</th>\n",
       "      <td>4</td>\n",
       "      <td>Shift Supervisor - Part-Time Job in Camphill</td>\n",
       "      <td>Position ID#  76162 # Positions  1 State  CT C...</td>\n",
       "      <td>Full Time Employee</td>\n",
       "      <td>Camphill, PA</td>\n",
       "      <td>Retail</td>\n",
       "      <td>Project/Program Management</td>\n",
       "    </tr>\n",
       "  </tbody>\n",
       "</table>\n",
       "</div>"
      ],
      "text/plain": [
       "   id                                          job_title  \\\n",
       "0   0               IT Support Technician Job in Madison   \n",
       "1   1            Business Reporter/Editor Job in Madison   \n",
       "2   2  Johnson & Johnson Family of Companies Job Appl...   \n",
       "3   3                    Engineer - Quality Job in Dixon   \n",
       "4   4       Shift Supervisor - Part-Time Job in Camphill   \n",
       "\n",
       "                                     job_description             job_type  \\\n",
       "0  TeamSoft is seeing an IT Support Specialist to...   Full Time Employee   \n",
       "1  The Wisconsin State Journal is seeking a flexi...            Full Time   \n",
       "2  Report this job About the Job DePuy Synthes Co...  Full Time, Employee   \n",
       "3  Why Join Altec? If you’re considering a career...            Full Time   \n",
       "4  Position ID#  76162 # Positions  1 State  CT C...   Full Time Employee   \n",
       "\n",
       "                                            location  \\\n",
       "0                                  Madison, WI 53702   \n",
       "1                                  Madison, WI 53708   \n",
       "2  DePuy Synthes Companies is a member of Johnson...   \n",
       "3                                          Dixon, CA   \n",
       "4                                       Camphill, PA   \n",
       "\n",
       "                      organization                      sector  \n",
       "0                             None     IT/Software Development  \n",
       "1          Printing and Publishing                        None  \n",
       "2  Personal and Household Services                        None  \n",
       "3                 Altec Industries   Experienced (Non-Manager)  \n",
       "4                           Retail  Project/Program Management  "
      ]
     },
     "execution_count": 3,
     "metadata": {},
     "output_type": "execute_result"
    }
   ],
   "source": [
    "print(df.columns)\n",
    "df.head()"
   ]
  },
  {
   "cell_type": "code",
   "execution_count": 4,
   "metadata": {},
   "outputs": [
    {
     "name": "stdout",
     "output_type": "stream",
     "text": [
      "(22000, 7)\n",
      "(18744, 7)\n",
      "(14074, 7)\n"
     ]
    }
   ],
   "source": [
    "print(df.shape)\n",
    "# drop duplicates\n",
    "df.drop_duplicates(subset = ['job_description'], inplace=True)\n",
    "print(df.shape)\n",
    "\n",
    "# remove the sectors that are actually full job descriptions\n",
    "df = df[df['sector'].str.len() < 150]\n",
    "print(df.shape)"
   ]
  },
  {
   "cell_type": "code",
   "execution_count": 5,
   "metadata": {},
   "outputs": [],
   "source": [
    "# save the no-duplicates df\n",
    "with open(DATA_PATH + 'monster_jobs_df_no_dups.pkl', 'wb') as f:\n",
    "    pickle.dump(df, f)"
   ]
  },
  {
   "cell_type": "markdown",
   "metadata": {},
   "source": [
    "### divide into sectors for later snorkel use"
   ]
  },
  {
   "cell_type": "code",
   "execution_count": 6,
   "metadata": {
    "scrolled": true
   },
   "outputs": [
    {
     "name": "stdout",
     "output_type": "stream",
     "text": [
      "['IT/Software Development' 'Experienced (Non-Manager)'\n",
      " 'Project/Program Management' 'Customer Support/Client Care' 'Entry Level'\n",
      " 'Building Construction/Skilled Trades'\n",
      " 'Civil & Structural EngineeringGeneral/Other: Engineering'\n",
      " 'Installation/Maintenance/Repair' 'Business/Strategic Management'\n",
      " 'Accounting/Finance/Insurance' 'General/Other: Engineering' 'Engineering'\n",
      " 'Editorial/Writing' 'Medical/Health' 'Marketing/Product'\n",
      " 'Manager (Manager/Supervisor of Staff)' 'Administrative/Clerical'\n",
      " 'Student (Undergraduate/Graduate)' 'Biotech/R&D/Science'\n",
      " 'Logistics/Transportation' 'General/Other: Customer Support/Client Care'\n",
      " 'Sales/Retail/Business Development' 'Education/Training' 'Other'\n",
      " 'General/Other: Installation/Maintenance/RepairVehicle Repair and Maintenance'\n",
      " 'General/Other: IT/Software Development'\n",
      " 'Brand/Product MarketingGeneral/Other: Marketing/ProductProduct Management'\n",
      " 'General/Other: Editorial/Writing'\n",
      " 'Executive (SVP, VP, Department Head, etc)'\n",
      " 'Banking/Real Estate/Mortgage Professionals' 'Legal'\n",
      " 'Field SalesGeneral/Other: Sales/Business DevelopmentStore/Branch Management'\n",
      " 'Security/Protective Services' 'Human Resources'\n",
      " 'Food Services/Hospitality' 'Student (High School)'\n",
      " 'General/Other: Business/Strategic Management'\n",
      " 'Education Level High School or equivalent'\n",
      " 'Manufacturing/Production/Operations' 'Retail' 'Quality Assurance/Safety'\n",
      " 'General/Other: Quality Assurance/Safety' 'General/Other: R&D/Science'\n",
      " 'General/Other: Food Services'\n",
      " 'General/Other: Installation/Maintenance/Repair'\n",
      " 'General/Other: Administrative/Clerical'\n",
      " 'Electrical/Electronics EngineeringIndustrial/Manufacturing EngineeringMechanical Engineering'\n",
      " 'Creative/Design' 'General/Other: Sales/Business Development'\n",
      " 'Recruiting/Sourcing' 'General/Other: Human Resources'\n",
      " 'Business Development/New Accounts General/Other: Sales/Business Development Technical Presales Support & Technical Sales'\n",
      " 'Nursing' 'Environmental/Geological Testing & Analysis'\n",
      " 'General/Other: Medical/Health' 'Mental Health'\n",
      " 'Telecommunications Administration/Management' 'Dental Practitioner'\n",
      " 'Computer/Network SecurityGeneral/Other: IT/Software Development'\n",
      " 'General/Other: IT/Software DevelopmentSoftware/Web Development'\n",
      " 'Laboratory/Pathology'\n",
      " 'Network and Server AdministrationSoftware/System ArchitectureSystems Analysis - IT'\n",
      " 'Network and Server Administration'\n",
      " 'Administrative SupportData Entry/Order ProcessingGeneral/Other: Administrative/Clerical'\n",
      " 'Systems Analysis - ITWeb/UI/UX Design'\n",
      " 'NursingGeneral/Other: Medical/Health'\n",
      " 'Account Management (Commissioned)Insurance Agent/BrokerFinancial Products Sales/Brokerage'\n",
      " 'ISO CertificationProduction Quality Assurance'\n",
      " 'Production Quality Assurance' 'Administrative Support'\n",
      " 'General/Other: Legal Paralegal & Legal Secretary' 'Student'\n",
      " \"Education Level Bachelor's Degree\" 'General/Other: Training/Instruction'\n",
      " 'Accounts Payable/ReceivableGeneral/Other: Accounting/FinanceCorporate Accounting'\n",
      " 'IT Project ManagementGeneral/Other: Project/Program ManagementProject Management'\n",
      " 'Software/Web Development'\n",
      " 'Computer/Electronics/Telecomm Install/Maintain/Repair'\n",
      " 'General/Other: Logistics/TransportationPurchasing'\n",
      " 'Real Estate Agent/BrokerRetail/Counter Sales and CashierStore/Branch Management'\n",
      " 'Oil Rig & Pipeline Install/Maintain/Repair' 'Military Combat'\n",
      " 'Car, Van and Bus DrivingGeneral/Other: Logistics/TransportationTruck Driving'\n",
      " 'Shipping and Receiving/Warehousing'\n",
      " 'General/Other: Human ResourcesRecruiting/Sourcing'\n",
      " 'General/Other: Medical/HealthVeterinary/Animal Care'\n",
      " 'Computer/Electronics/Telecomm Install/Maintain/RepairGeneral/Other: Installation/Maintenance/Repair'\n",
      " 'Equipment Install/Maintain/RepairGeneral/Other: Installation/Maintenance/Repair'\n",
      " 'Contracts AdministrationGeneral/Other: Legal'\n",
      " 'Investor and Public/Media RelationsMarketing CommunicationsGeneral/Other: Marketing/Product'\n",
      " 'Veterinary/Animal Care' 'Government, Defence & Emergency'\n",
      " 'Supplier Management/Vendor Management'\n",
      " 'Call CenterGeneral/Other: Customer Support/Client Care'\n",
      " 'General/Other: Training/InstructionSchool/College AdministrationUniversity'\n",
      " 'Optical' 'Systems Analysis - IT'\n",
      " 'General/Other: Sales/Business DevelopmentRetail/Counter Sales and CashierStore/Branch Management'\n",
      " 'Equipment Install/Maintain/RepairFacilities Management/MaintenanceHVAC'\n",
      " 'Career Level Entry Level' 'Career Level Experienced (Non-Manager)'\n",
      " 'Operations/Plant Management' 'General/Other: Production/Operations'\n",
      " 'General/Other: Production/OperationsSewing and Tailoring'\n",
      " 'General/Other: Marketing/Product' 'Production/Operations Planning'\n",
      " 'General/Other: Project/Program Management' 'Food Safety and Inspection'\n",
      " 'Education Level Associate Degree' 'Real Estate Agent/Broker'\n",
      " 'Computer/Network SecurityNetwork and Server AdministrationSystems Analysis - IT'\n",
      " 'Desktop Service and Support'\n",
      " 'Insurance Agent/BrokerGeneral/Other: Sales/Business DevelopmentFinancial Products Sales/Brokerage'\n",
      " 'Database Development/Administration'\n",
      " 'General/Other: Project/Program ManagementProgram ManagementProject Management'\n",
      " 'Project Management' 'Senior Executive (President, CFO, etc)'\n",
      " 'General/Other: Project/Program ManagementProject Management'\n",
      " 'Food Safety and InspectionGeneral/Other: Quality Assurance/SafetyProduction Quality Assurance'\n",
      " 'General/Other: Project/Program ManagementProgram Management'\n",
      " 'Occupational Health and Safety' 'Software Quality Assurance'\n",
      " 'General/Other: Accounting/Finance' 'Real Estate Leasing/Acquisition'\n",
      " 'Financial Analysis/Research/ReportingGeneral/Other: Accounting/Finance'\n",
      " 'Equipment Install/Maintain/RepairFacilities Management/MaintenanceGeneral/Other: Installation/Maintenance/Repair'\n",
      " 'Janitorial & Cleaning'\n",
      " 'Account Management (Commissioned)General/Other: Sales/Business Development'\n",
      " 'Accounts Payable/Receivable'\n",
      " 'Database Development/AdministrationNetwork and Server Administration'\n",
      " 'Market ResearchMarketing Production/Traffic'\n",
      " 'Business Unit ManagementGeneral/Other: Business/Strategic Management'\n",
      " 'Computer/Electronics/Telecomm Install/Maintain/RepairEquipment Install/Maintain/RepairWire and Cable Install/Maintain/Repair'\n",
      " 'Equipment Operations'\n",
      " 'Medical Therapy/Rehab Services General/Other: Medical/Health Public Health Administration'\n",
      " 'Food Preparation/Cooking' 'Restaurant Management' 'Corporate Accounting'\n",
      " 'Patient Care Support/Nursing Assistant'\n",
      " 'Brand/Product Marketing General/Other: Marketing/Product Product Management'\n",
      " 'Office ManagementGeneral/Other: Administrative/ClericalProperty Management'\n",
      " 'Office Management' 'Property Management'\n",
      " 'Administrative SupportOffice ManagementGeneral/Other: Administrative/Clerical'\n",
      " 'Payroll and Benefits Administration'\n",
      " 'Market ResearchGeneral/Other: Marketing/ProductProduct Management'\n",
      " 'Call CenterReservations/TicketingRetail Customer Service'\n",
      " 'Healthcare AidGeneral/Other: Medical/Health'\n",
      " 'Laboratory/PathologyNursingGeneral/Other: Medical/Health']\n"
     ]
    }
   ],
   "source": [
    "# see all sector names\n",
    "sector_names = df['sector'].unique()\n",
    "print(sector_names)"
   ]
  },
  {
   "cell_type": "code",
   "execution_count": 7,
   "metadata": {},
   "outputs": [
    {
     "name": "stdout",
     "output_type": "stream",
     "text": [
      "IT/Software Development\n",
      "IT/Software Development\n",
      "General/Other: IT/Software Development\n",
      "General/Other: IT/Software Development\n",
      "Computer/Network SecurityGeneral/Other: IT/Software Development\n",
      "Computer/Network SecurityGeneral/Other: IT/Software Development\n",
      "Computer/Network SecurityGeneral/Other: IT/Software Development\n",
      "General/Other: IT/Software DevelopmentSoftware/Web Development\n",
      "General/Other: IT/Software DevelopmentSoftware/Web Development\n",
      "Network and Server AdministrationSoftware/System ArchitectureSystems Analysis - IT\n",
      "Network and Server AdministrationSoftware/System ArchitectureSystems Analysis - IT\n",
      "Network and Server AdministrationSoftware/System ArchitectureSystems Analysis - IT\n",
      "Network and Server Administration\n",
      "Administrative SupportData Entry/Order ProcessingGeneral/Other: Administrative/Clerical\n",
      "Systems Analysis - ITWeb/UI/UX Design\n",
      "IT Project ManagementGeneral/Other: Project/Program ManagementProject Management\n",
      "Software/Web Development\n",
      "Systems Analysis - IT\n",
      "Computer/Network SecurityNetwork and Server AdministrationSystems Analysis - IT\n",
      "Computer/Network SecurityNetwork and Server AdministrationSystems Analysis - IT\n",
      "Database Development/Administration\n",
      "Software Quality Assurance\n",
      "Database Development/AdministrationNetwork and Server Administration\n",
      "Database Development/AdministrationNetwork and Server Administration\n",
      "(921, 7)\n"
     ]
    }
   ],
   "source": [
    "# extract tech sectors\n",
    "tech_sectors = []\n",
    "for i in sector_names:\n",
    "    for j in ['IT', 'Software', 'Computing', 'Data', 'Network']:\n",
    "        if j in i:\n",
    "            print(i)\n",
    "            tech_sectors.append(i)\n",
    "\n",
    "tech_df = df[df['sector'].isin(tech_sectors)]\n",
    "print(tech_df.shape)\n",
    "\n",
    "with open(DATA_PATH + 'tech_sector_jobs.pkl', 'wb') as f:\n",
    "    pickle.dump(tech_df, f)"
   ]
  },
  {
   "cell_type": "code",
   "execution_count": 8,
   "metadata": {
    "scrolled": true
   },
   "outputs": [
    {
     "name": "stdout",
     "output_type": "stream",
     "text": [
      "Manufacturing/Production/Operations\n",
      "Quality Assurance/Safety\n",
      "Quality Assurance/Safety\n",
      "Quality Assurance/Safety\n",
      "General/Other: Quality Assurance/Safety\n",
      "General/Other: Quality Assurance/Safety\n",
      "General/Other: Quality Assurance/Safety\n",
      "Administrative SupportData Entry/Order ProcessingGeneral/Other: Administrative/Clerical\n",
      "Administrative SupportData Entry/Order ProcessingGeneral/Other: Administrative/Clerical\n",
      "ISO CertificationProduction Quality Assurance\n",
      "ISO CertificationProduction Quality Assurance\n",
      "ISO CertificationProduction Quality Assurance\n",
      "Production Quality Assurance\n",
      "Production Quality Assurance\n",
      "Production Quality Assurance\n",
      "General/Other: Production/Operations\n",
      "General/Other: Production/OperationsSewing and Tailoring\n",
      "Production/Operations Planning\n",
      "Food Safety and Inspection\n",
      "Food Safety and InspectionGeneral/Other: Quality Assurance/SafetyProduction Quality Assurance\n",
      "Food Safety and InspectionGeneral/Other: Quality Assurance/SafetyProduction Quality Assurance\n",
      "Food Safety and InspectionGeneral/Other: Quality Assurance/SafetyProduction Quality Assurance\n",
      "Food Safety and InspectionGeneral/Other: Quality Assurance/SafetyProduction Quality Assurance\n",
      "Occupational Health and Safety\n",
      "Software Quality Assurance\n",
      "Software Quality Assurance\n",
      "Market ResearchMarketing Production/Traffic\n",
      "(776, 7)\n"
     ]
    }
   ],
   "source": [
    "# extract safety_compliance sectors\n",
    "safety_compliance_sectors = []\n",
    "for i in sector_names:\n",
    "    for j in ['quality', 'control', 'safety', 'compliance', 'process', 'assurance', 'process', 'production']:\n",
    "        if j in i.lower():\n",
    "            print(i)\n",
    "            safety_compliance_sectors.append(i)\n",
    "\n",
    "safety_compliance_df = df[df['sector'].isin(safety_compliance_sectors)]\n",
    "print(safety_compliance_df.shape)\n",
    "\n",
    "with open(DATA_PATH + 'safety_compliance_sector.pkl', 'wb') as f:\n",
    "    pickle.dump(safety_compliance_df, f)\n"
   ]
  },
  {
   "cell_type": "code",
   "execution_count": 9,
   "metadata": {},
   "outputs": [
    {
     "name": "stdout",
     "output_type": "stream",
     "text": [
      "Civil & Structural EngineeringGeneral/Other: Engineering\n",
      "Installation/Maintenance/Repair\n",
      "Installation/Maintenance/Repair\n",
      "General/Other: Engineering\n",
      "Engineering\n",
      "General/Other: Installation/Maintenance/RepairVehicle Repair and Maintenance\n",
      "General/Other: Installation/Maintenance/RepairVehicle Repair and Maintenance\n",
      "General/Other: Installation/Maintenance/Repair\n",
      "General/Other: Installation/Maintenance/Repair\n",
      "Electrical/Electronics EngineeringIndustrial/Manufacturing EngineeringMechanical Engineering\n",
      "Electrical/Electronics EngineeringIndustrial/Manufacturing EngineeringMechanical Engineering\n",
      "Electrical/Electronics EngineeringIndustrial/Manufacturing EngineeringMechanical Engineering\n",
      "Computer/Electronics/Telecomm Install/Maintain/Repair\n",
      "Computer/Electronics/Telecomm Install/Maintain/Repair\n",
      "Oil Rig & Pipeline Install/Maintain/Repair\n",
      "Oil Rig & Pipeline Install/Maintain/Repair\n",
      "Computer/Electronics/Telecomm Install/Maintain/RepairGeneral/Other: Installation/Maintenance/Repair\n",
      "Computer/Electronics/Telecomm Install/Maintain/RepairGeneral/Other: Installation/Maintenance/Repair\n",
      "Equipment Install/Maintain/RepairGeneral/Other: Installation/Maintenance/Repair\n",
      "Equipment Install/Maintain/RepairGeneral/Other: Installation/Maintenance/Repair\n",
      "Equipment Install/Maintain/RepairGeneral/Other: Installation/Maintenance/Repair\n",
      "Equipment Install/Maintain/RepairFacilities Management/MaintenanceHVAC\n",
      "Equipment Install/Maintain/RepairFacilities Management/MaintenanceHVAC\n",
      "Equipment Install/Maintain/RepairFacilities Management/MaintenanceHVAC\n",
      "Equipment Install/Maintain/RepairFacilities Management/MaintenanceGeneral/Other: Installation/Maintenance/Repair\n",
      "Equipment Install/Maintain/RepairFacilities Management/MaintenanceGeneral/Other: Installation/Maintenance/Repair\n",
      "Equipment Install/Maintain/RepairFacilities Management/MaintenanceGeneral/Other: Installation/Maintenance/Repair\n",
      "Computer/Electronics/Telecomm Install/Maintain/RepairEquipment Install/Maintain/RepairWire and Cable Install/Maintain/Repair\n",
      "Computer/Electronics/Telecomm Install/Maintain/RepairEquipment Install/Maintain/RepairWire and Cable Install/Maintain/Repair\n",
      "Computer/Electronics/Telecomm Install/Maintain/RepairEquipment Install/Maintain/RepairWire and Cable Install/Maintain/Repair\n",
      "Equipment Operations\n",
      "(562, 7)\n"
     ]
    }
   ],
   "source": [
    "# extract safety_compliance sectors\n",
    "# mechanical and electrical\n",
    "mechanical_electrical_sectors = []\n",
    "for i in sector_names:\n",
    "    for j in ['mechanic', 'electric', 'auto' 'inspect' 'material', 'maint', 'engineering', 'install', 'equip']:\n",
    "        if j in i.lower():\n",
    "            print(i)\n",
    "            mechanical_electrical_sectors.append(i)\n",
    "\n",
    "mechanical_electrical_df = df[df['sector'].isin(mechanical_electrical_sectors)]\n",
    "print(mechanical_electrical_df.shape)\n",
    "\n",
    "with open(DATA_PATH + 'mechanical_electrical_sector.pkl', 'wb') as f:\n",
    "    pickle.dump(mechanical_electrical_df, f)\n"
   ]
  },
  {
   "cell_type": "code",
   "execution_count": null,
   "metadata": {},
   "outputs": [],
   "source": []
  }
 ],
 "metadata": {
  "kernelspec": {
   "display_name": "snorkel_env",
   "language": "python",
   "name": "env"
  },
  "language_info": {
   "codemirror_mode": {
    "name": "ipython",
    "version": 3
   },
   "file_extension": ".py",
   "mimetype": "text/x-python",
   "name": "python",
   "nbconvert_exporter": "python",
   "pygments_lexer": "ipython3",
   "version": "3.7.2"
  }
 },
 "nbformat": 4,
 "nbformat_minor": 4
}
